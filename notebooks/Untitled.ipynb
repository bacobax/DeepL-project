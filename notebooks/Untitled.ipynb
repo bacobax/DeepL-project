{
 "cells": [
  {
   "cell_type": "code",
   "execution_count": 16,
   "id": "de8ca04d-c4e7-42c2-b018-86e124abff03",
   "metadata": {
    "ExecuteTime": {
     "end_time": "2025-05-17T15:49:56.563935Z",
     "start_time": "2025-05-17T15:49:55.577475Z"
    }
   },
   "outputs": [],
   "source": [
    "\n",
    "\n",
    "from torch.utils.tensorboard import SummaryWriter\n",
    "\n",
    "run_name = \"run_20250515_135519\"\n",
    "writer = SummaryWriter(log_dir=f\"../runs/CoCoOp/{run_name}\")"
   ]
  },
  {
   "cell_type": "code",
   "execution_count": 14,
   "id": "220a449b-abd9-4667-b101-7e9d7fa72e37",
   "metadata": {
    "ExecuteTime": {
     "end_time": "2025-05-15T15:24:47.725260Z",
     "start_time": "2025-05-15T15:24:47.707962Z"
    }
   },
   "outputs": [],
   "source": [
    "writer.add_scalar(\"novel_classes/accuracy\" , 0.7424, -1)"
   ]
  },
  {
   "cell_type": "code",
   "execution_count": 17,
   "outputs": [],
   "source": [
    "writer.add_scalar(\"base_classes/accuracy\" , 0.7133, -1)"
   ],
   "metadata": {
    "collapsed": false,
    "ExecuteTime": {
     "end_time": "2025-05-15T15:28:11.562399Z",
     "start_time": "2025-05-15T15:28:11.557692Z"
    }
   },
   "id": "d708d14e64113abc"
  },
  {
   "cell_type": "code",
   "execution_count": 17,
   "outputs": [],
   "source": [
    "writer.close()"
   ],
   "metadata": {
    "collapsed": false,
    "ExecuteTime": {
     "end_time": "2025-05-17T15:50:07.113057Z",
     "start_time": "2025-05-17T15:50:07.107682Z"
    }
   },
   "id": "50385b425ee984a1"
  },
  {
   "cell_type": "code",
   "execution_count": 24,
   "outputs": [],
   "source": [
    "\n",
    "import seaborn as sns\n"
   ],
   "metadata": {
    "collapsed": false,
    "ExecuteTime": {
     "end_time": "2025-05-15T15:50:27.249428Z",
     "start_time": "2025-05-15T15:50:26.494110Z"
    }
   },
   "id": "5a5936820a7de8d6"
  },
  {
   "cell_type": "code",
   "execution_count": 25,
   "outputs": [],
   "source": [
    "from scipy import stats\n",
    "import tensorboard as tb\n",
    "from packaging import version\n",
    "\n",
    "import pandas as pd\n",
    "from matplotlib import pyplot as plt"
   ],
   "metadata": {
    "collapsed": false,
    "ExecuteTime": {
     "end_time": "2025-05-15T15:50:27.263276Z",
     "start_time": "2025-05-15T15:50:27.244557Z"
    }
   },
   "id": "8a0c0467ede80fe1"
  },
  {
   "cell_type": "code",
   "execution_count": 26,
   "outputs": [
    {
     "name": "stdout",
     "output_type": "stream",
     "text": [
      "TensorBoard version:  2.19.0\n"
     ]
    }
   ],
   "source": [
    "major_ver, minor_ver, _ = version.parse(tb.__version__).release\n",
    "assert major_ver >= 2 and minor_ver >= 3, \\\n",
    "    \"This notebook requires TensorBoard 2.3 or later.\"\n",
    "print(\"TensorBoard version: \", tb.__version__)"
   ],
   "metadata": {
    "collapsed": false,
    "ExecuteTime": {
     "end_time": "2025-05-15T15:50:27.263538Z",
     "start_time": "2025-05-15T15:50:27.245778Z"
    }
   },
   "id": "25b4d55732377784"
  },
  {
   "cell_type": "code",
   "execution_count": 28,
   "outputs": [
    {
     "ename": "AttributeError",
     "evalue": "module 'tensorboard' has no attribute 'experimental'",
     "output_type": "error",
     "traceback": [
      "\u001B[0;31m---------------------------------------------------------------------------\u001B[0m",
      "\u001B[0;31mAttributeError\u001B[0m                            Traceback (most recent call last)",
      "Cell \u001B[0;32mIn[28], line 2\u001B[0m\n\u001B[1;32m      1\u001B[0m experiment_id \u001B[38;5;241m=\u001B[39m \u001B[38;5;124mf\u001B[39m\u001B[38;5;124m\"\u001B[39m\u001B[38;5;124m../runs/CoCoOp/\u001B[39m\u001B[38;5;132;01m{\u001B[39;00mrun_name\u001B[38;5;132;01m}\u001B[39;00m\u001B[38;5;124m\"\u001B[39m\n\u001B[0;32m----> 2\u001B[0m experiment \u001B[38;5;241m=\u001B[39m \u001B[43mtb\u001B[49m\u001B[38;5;241;43m.\u001B[39;49m\u001B[43mexperimental\u001B[49m\u001B[38;5;241m.\u001B[39mExperimentFromDev(experiment_id)\n\u001B[1;32m      3\u001B[0m df \u001B[38;5;241m=\u001B[39m experiment\u001B[38;5;241m.\u001B[39mget_scalars()\n\u001B[1;32m      4\u001B[0m df\n",
      "\u001B[0;31mAttributeError\u001B[0m: module 'tensorboard' has no attribute 'experimental'"
     ]
    }
   ],
   "source": [
    "experiment_id = f\"../runs/CoCoOp/{run_name}\"\n",
    "experiment = tb.experimental.ExperimentFromDev(experiment_id)\n",
    "df = experiment.get_scalars()\n",
    "df"
   ],
   "metadata": {
    "collapsed": false,
    "ExecuteTime": {
     "end_time": "2025-05-15T15:51:30.187198Z",
     "start_time": "2025-05-15T15:51:30.144120Z"
    }
   },
   "id": "95dfef684618378a"
  },
  {
   "cell_type": "code",
   "execution_count": 23,
   "outputs": [],
   "source": [
    "from tensorboard.backend.event_processing import event_accumulator\n",
    "import pandas as pd\n",
    "\n",
    "\n",
    "def parse_tensorboard(path, scalars):\n",
    "    \"\"\"returns a dictionary of pandas dataframes for each requested scalar\"\"\"\n",
    "    ea = event_accumulator.EventAccumulator(\n",
    "        path,\n",
    "        size_guidance={event_accumulator.SCALARS: 0},\n",
    "    )\n",
    "    _absorb_print = ea.Reload()\n",
    "    # make sure the scalars are in the event accumulator tags\n",
    "    assert all(\n",
    "        s in ea.Tags()[\"scalars\"] for s in scalars\n",
    "    ), \"some scalars were not found in the event accumulator\"\n",
    "    return {k: pd.DataFrame(ea.Scalars(k)) for k in scalars}"
   ],
   "metadata": {
    "collapsed": false,
    "ExecuteTime": {
     "end_time": "2025-05-17T17:09:31.238410Z",
     "start_time": "2025-05-17T17:09:31.230240Z"
    }
   },
   "id": "ffd9bdf5ca3bee2d"
  },
  {
   "cell_type": "code",
   "execution_count": 2,
   "outputs": [
    {
     "data": {
      "text/plain": "      wall_time  step    value\n0  1.747318e+09     8  0.73797\n1  1.747323e+09    -1  0.71330\n2  1.747323e+09    -1  0.71330",
      "text/html": "<div>\n<style scoped>\n    .dataframe tbody tr th:only-of-type {\n        vertical-align: middle;\n    }\n\n    .dataframe tbody tr th {\n        vertical-align: top;\n    }\n\n    .dataframe thead th {\n        text-align: right;\n    }\n</style>\n<table border=\"1\" class=\"dataframe\">\n  <thead>\n    <tr style=\"text-align: right;\">\n      <th></th>\n      <th>wall_time</th>\n      <th>step</th>\n      <th>value</th>\n    </tr>\n  </thead>\n  <tbody>\n    <tr>\n      <th>0</th>\n      <td>1.747318e+09</td>\n      <td>8</td>\n      <td>0.73797</td>\n    </tr>\n    <tr>\n      <th>1</th>\n      <td>1.747323e+09</td>\n      <td>-1</td>\n      <td>0.71330</td>\n    </tr>\n    <tr>\n      <th>2</th>\n      <td>1.747323e+09</td>\n      <td>-1</td>\n      <td>0.71330</td>\n    </tr>\n  </tbody>\n</table>\n</div>"
     },
     "execution_count": 2,
     "metadata": {},
     "output_type": "execute_result"
    }
   ],
   "source": [
    "parse_tensorboard(\"../runs/CoCoOp/run_20250515_135519\", [\"base_classes/accuracy\"])[\"base_classes/accuracy\"]"
   ],
   "metadata": {
    "collapsed": false,
    "ExecuteTime": {
     "end_time": "2025-05-17T15:20:39.834019Z",
     "start_time": "2025-05-17T15:20:35.040791Z"
    }
   },
   "id": "1e066d873ad42493"
  },
  {
   "cell_type": "code",
   "execution_count": 33,
   "outputs": [],
   "source": [
    "def harmonic_mean_calc(a, b):\n",
    "    \"\"\"returns the harmonic mean of a and b\"\"\"\n",
    "    print(f\"a: {a}, b: {b}\")\n",
    "    return 2 * (a * b) / (a + b)"
   ],
   "metadata": {
    "collapsed": false,
    "ExecuteTime": {
     "end_time": "2025-05-17T17:22:33.202953Z",
     "start_time": "2025-05-17T17:22:33.195783Z"
    }
   },
   "id": "972ce2cdaf9158fc"
  },
  {
   "cell_type": "code",
   "execution_count": 30,
   "outputs": [
    {
     "data": {
      "text/plain": "{'../runs/CoCoOp/run_20250511_172826': {'base_classes/accuracy':       wall_time  step     value\n  0  1.746985e+09    -1  0.713708\n  1  1.746986e+09    10  0.813991,\n  'novel_classes/accuracy':       wall_time  step     value\n  0  1.746985e+09    -1  0.742383\n  1  1.746986e+09    10  0.714363},\n '../runs/CoCoOp/run_20250515_141551': {'base_classes/accuracy':       wall_time  step     value\n  0  1.747319e+09    -1  0.713304\n  1  1.747319e+09     8  0.737970,\n  'novel_classes/accuracy':       wall_time  step     value\n  0  1.747319e+09    -1  0.742383\n  1  1.747319e+09     8  0.737758},\n '../runs/CoCoOp/run_20250515_142955': {'base_classes/accuracy':       wall_time  step     value\n  0  1.747319e+09    -1  0.713304\n  1  1.747320e+09    10  0.728265,\n  'novel_classes/accuracy':       wall_time  step     value\n  0  1.747319e+09    -1  0.742383\n  1  1.747320e+09    10  0.743743},\n '../runs/CoCoOp/run_20250517_161254': {'base_classes/accuracy':       wall_time  step     value\n  0  1.747498e+09    -1  0.713304\n  1  1.747499e+09    12  0.763850,\n  'novel_classes/accuracy':       wall_time  step     value\n  0  1.747498e+09    -1  0.742383\n  1  1.747499e+09    12  0.734494}}"
     },
     "execution_count": 30,
     "metadata": {},
     "output_type": "execute_result"
    }
   ],
   "source": [
    "filenames = [\n",
    "    \"../runs/CoCoOp/run_20250511_172826\",\n",
    "    \"../runs/CoCoOp/run_20250515_141551\",\n",
    "    \"../runs/CoCoOp/run_20250515_142955\",\n",
    "    \"../runs/CoCoOp/run_20250517_161254\"\n",
    "]\n",
    "\n",
    "tensorboards = {path: parse_tensorboard(path, [\"base_classes/accuracy\", \"novel_classes/accuracy\"]) for path in filenames}\n",
    "tensorboards"
   ],
   "metadata": {
    "collapsed": false,
    "ExecuteTime": {
     "end_time": "2025-05-17T17:22:03.265181Z",
     "start_time": "2025-05-17T17:22:03.246314Z"
    }
   },
   "id": "96c116f0e2abe7e2"
  },
  {
   "cell_type": "code",
   "execution_count": 31,
   "outputs": [],
   "source": [
    "def step_value(df, step):\n",
    "    \"\"\"returns the value of the column at the step\"\"\"\n",
    "    return df[df[\"step\"] == step][\"value\"].values[0]"
   ],
   "metadata": {
    "collapsed": false,
    "ExecuteTime": {
     "end_time": "2025-05-17T17:22:04.545037Z",
     "start_time": "2025-05-17T17:22:04.531693Z"
    }
   },
   "id": "80a1fe859dbe9b84"
  },
  {
   "cell_type": "code",
   "execution_count": 34,
   "outputs": [
    {
     "name": "stdout",
     "output_type": "stream",
     "text": [
      "a: 0.7143634557723999, b: 0.813991129398346\n",
      "a: 0.737758457660675, b: 0.7379700541496277\n",
      "a: 0.7437431812286377, b: 0.7282652854919434\n",
      "a: 0.7344940304756165, b: 0.7638495564460754\n"
     ]
    },
    {
     "data": {
      "text/plain": "{'../runs/CoCoOp/run_20250511_172826': {'base_acc': np.float64(0.813991129398346),\n  'novel_acc': np.float64(0.7143634557723999),\n  'harmonic_mean': np.float64(0.7609301163579371)},\n '../runs/CoCoOp/run_20250515_141551': {'base_acc': np.float64(0.7379700541496277),\n  'novel_acc': np.float64(0.737758457660675),\n  'harmonic_mean': np.float64(0.7378642407353305)},\n '../runs/CoCoOp/run_20250515_142955': {'base_acc': np.float64(0.7282652854919434),\n  'novel_acc': np.float64(0.7437431812286377),\n  'harmonic_mean': np.float64(0.7359228597602563)},\n '../runs/CoCoOp/run_20250517_161254': {'base_acc': np.float64(0.7638495564460754),\n  'novel_acc': np.float64(0.7344940304756165),\n  'harmonic_mean': np.float64(0.748884226939881)}}"
     },
     "execution_count": 34,
     "metadata": {},
     "output_type": "execute_result"
    }
   ],
   "source": [
    "harmonic_means = {}\n",
    "for path, tb in tensorboards.items():\n",
    "    base_accs = tb[\"base_classes/accuracy\"]\n",
    "    novel_accs = tb[\"novel_classes/accuracy\"]\n",
    "    last_value_base_accs = step_value(base_accs, base_accs[\"step\"].max())\n",
    "    last_value_novel_accs = step_value(novel_accs, novel_accs[\"step\"].max())\n",
    "    harmonic_means[path] = {\n",
    "        \"base_acc\": last_value_base_accs,\n",
    "        \"novel_acc\": last_value_novel_accs,\n",
    "        \"harmonic_mean\": harmonic_mean_calc(last_value_novel_accs, last_value_base_accs),\n",
    "    }\n",
    "    \n",
    "harmonic_means\n",
    "    "
   ],
   "metadata": {
    "collapsed": false,
    "ExecuteTime": {
     "end_time": "2025-05-17T17:22:38.302721Z",
     "start_time": "2025-05-17T17:22:38.294305Z"
    }
   },
   "id": "9b1ab8aeafe8d831"
  },
  {
   "cell_type": "code",
   "execution_count": 35,
   "outputs": [
    {
     "name": "stdout",
     "output_type": "stream",
     "text": [
      "../runs/CoCoOp/run_20250511_172826: {'base_acc': np.float64(0.813991129398346), 'novel_acc': np.float64(0.7143634557723999), 'harmonic_mean': np.float64(0.7609301163579371)}\n",
      "../runs/CoCoOp/run_20250515_141551: {'base_acc': np.float64(0.7379700541496277), 'novel_acc': np.float64(0.737758457660675), 'harmonic_mean': np.float64(0.7378642407353305)}\n",
      "../runs/CoCoOp/run_20250515_142955: {'base_acc': np.float64(0.7282652854919434), 'novel_acc': np.float64(0.7437431812286377), 'harmonic_mean': np.float64(0.7359228597602563)}\n",
      "../runs/CoCoOp/run_20250517_161254: {'base_acc': np.float64(0.7638495564460754), 'novel_acc': np.float64(0.7344940304756165), 'harmonic_mean': np.float64(0.748884226939881)}\n"
     ]
    }
   ],
   "source": [
    "for path, stats in harmonic_means.items():\n",
    "    print(f\"{path}: {stats}\")\n",
    "    writer = SummaryWriter(log_dir=path)\n",
    "    #writer.add_scalars('Final metrics', {\n",
    "    #    'Harmonic Mean': harmonic_mean,\n",
    "    #}, global_step=0)\n",
    "    writer.add_hparams(stats, {})\n",
    "    writer.close()"
   ],
   "metadata": {
    "collapsed": false,
    "ExecuteTime": {
     "end_time": "2025-05-17T17:22:45.608660Z",
     "start_time": "2025-05-17T17:22:45.575927Z"
    }
   },
   "id": "3bdfc62257f6c512"
  },
  {
   "cell_type": "code",
   "execution_count": 22,
   "outputs": [
    {
     "ename": "AssertionError",
     "evalue": "some scalars were not found in the event accumulator",
     "output_type": "error",
     "traceback": [
      "\u001B[0;31m---------------------------------------------------------------------------\u001B[0m",
      "\u001B[0;31mAssertionError\u001B[0m                            Traceback (most recent call last)",
      "Cell \u001B[0;32mIn[22], line 1\u001B[0m\n\u001B[0;32m----> 1\u001B[0m tb \u001B[38;5;241m=\u001B[39m \u001B[43mparse_tensorboard\u001B[49m\u001B[43m(\u001B[49m\u001B[38;5;124;43m\"\u001B[39;49m\u001B[38;5;124;43m../runs/CoCoOp/run_20250517_161254\u001B[39;49m\u001B[38;5;124;43m\"\u001B[39;49m\u001B[43m,\u001B[49m\u001B[43m \u001B[49m\u001B[43m[\u001B[49m\u001B[38;5;124;43m\"\u001B[39;49m\u001B[38;5;124;43mFinal metrics\u001B[39;49m\u001B[38;5;124;43m\"\u001B[39;49m\u001B[43m]\u001B[49m\u001B[43m)\u001B[49m\n",
      "Cell \u001B[0;32mIn[1], line 13\u001B[0m, in \u001B[0;36mparse_tensorboard\u001B[0;34m(path, scalars)\u001B[0m\n\u001B[1;32m     11\u001B[0m _absorb_print \u001B[38;5;241m=\u001B[39m ea\u001B[38;5;241m.\u001B[39mReload()\n\u001B[1;32m     12\u001B[0m \u001B[38;5;66;03m# make sure the scalars are in the event accumulator tags\u001B[39;00m\n\u001B[0;32m---> 13\u001B[0m \u001B[38;5;28;01massert\u001B[39;00m \u001B[38;5;28mall\u001B[39m(\n\u001B[1;32m     14\u001B[0m     s \u001B[38;5;129;01min\u001B[39;00m ea\u001B[38;5;241m.\u001B[39mTags()[\u001B[38;5;124m\"\u001B[39m\u001B[38;5;124mscalars\u001B[39m\u001B[38;5;124m\"\u001B[39m] \u001B[38;5;28;01mfor\u001B[39;00m s \u001B[38;5;129;01min\u001B[39;00m scalars\n\u001B[1;32m     15\u001B[0m ), \u001B[38;5;124m\"\u001B[39m\u001B[38;5;124msome scalars were not found in the event accumulator\u001B[39m\u001B[38;5;124m\"\u001B[39m\n\u001B[1;32m     16\u001B[0m \u001B[38;5;28;01mreturn\u001B[39;00m {k: pd\u001B[38;5;241m.\u001B[39mDataFrame(ea\u001B[38;5;241m.\u001B[39mScalars(k)) \u001B[38;5;28;01mfor\u001B[39;00m k \u001B[38;5;129;01min\u001B[39;00m scalars}\n",
      "\u001B[0;31mAssertionError\u001B[0m: some scalars were not found in the event accumulator"
     ]
    }
   ],
   "source": [
    "tb = parse_tensorboard(\"../runs/CoCoOp/run_20250517_161254\", [\"Final metrics\"])"
   ],
   "metadata": {
    "collapsed": false,
    "ExecuteTime": {
     "end_time": "2025-05-17T17:08:52.424931Z",
     "start_time": "2025-05-17T17:08:52.400466Z"
    }
   },
   "id": "473ac36392bbf4fc"
  },
  {
   "cell_type": "code",
   "execution_count": null,
   "outputs": [],
   "source": [],
   "metadata": {
    "collapsed": false
   },
   "id": "b5f02fe78d931718"
  },
  {
   "cell_type": "code",
   "execution_count": null,
   "outputs": [],
   "source": [
    "import torch\n",
    "\n",
    "state_dict = torch.load(\"path/to/your_prompt_learner.pth\", map_location=\"cpu\")\n",
    "\n",
    "# Check key names\n",
    "print(state_dict.keys())  # should contain something like 'ctx'\n",
    "\n",
    "# Extract and save ctx\n",
    "if \"ctx\" in state_dict:\n",
    "    torch.save({\"ctx\": state_dict[\"ctx\"]}, \"path/to/your_ctx.pth\")\n",
    "else:\n",
    "    raise KeyError(\"Key 'ctx' not found in the state_dict!\")"
   ],
   "metadata": {
    "collapsed": false
   },
   "id": "d96d413ccb7d2505"
  }
 ],
 "metadata": {
  "kernelspec": {
   "name": "python3",
   "language": "python",
   "display_name": "Python 3 (ipykernel)"
  },
  "language_info": {
   "codemirror_mode": {
    "name": "python",
    "version": 3
   },
   "file_extension": ".py",
   "mimetype": "text/x-python",
   "name": "Python_Glue_Session",
   "pygments_lexer": "python3"
  }
 },
 "nbformat": 4,
 "nbformat_minor": 5
}
