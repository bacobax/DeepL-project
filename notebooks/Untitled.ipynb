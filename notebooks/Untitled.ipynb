{
 "cells": [
  {
   "cell_type": "code",
   "execution_count": 2,
   "id": "e84980d4-272e-42de-a6e9-c90a0183cfc9",
   "metadata": {},
   "outputs": [
    {
     "name": "stdout",
     "output_type": "stream",
     "text": [
      "Welcome to the Glue Interactive Sessions Kernel\n",
      "For more information on available magic commands, please type %help in any new cell.\n",
      "\n",
      "Please view our Getting Started page to access the most up-to-date information on the Interactive Sessions kernel: https://docs.aws.amazon.com/glue/latest/dg/interactive-sessions.html\n",
      "Installed kernel version: 1.0.8 \n",
      "Requirement already satisfied: tensorboard in /opt/conda/lib/python3.12/site-packages (2.18.0)\n",
      "Requirement already satisfied: absl-py>=0.4 in /opt/conda/lib/python3.12/site-packages (from tensorboard) (2.1.0)\n",
      "Requirement already satisfied: grpcio>=1.48.2 in /opt/conda/lib/python3.12/site-packages (from tensorboard) (1.67.1)\n",
      "Requirement already satisfied: markdown>=2.6.8 in /opt/conda/lib/python3.12/site-packages (from tensorboard) (3.6)\n",
      "Requirement already satisfied: numpy>=1.12.0 in /opt/conda/lib/python3.12/site-packages (from tensorboard) (1.26.4)\n",
      "Requirement already satisfied: packaging in /opt/conda/lib/python3.12/site-packages (from tensorboard) (24.2)\n",
      "Requirement already satisfied: protobuf in /opt/conda/lib/python3.12/site-packages (from tensorboard) (5.28.3)\n",
      "Requirement already satisfied: setuptools>=41.0.0 in /opt/conda/lib/python3.12/site-packages (from tensorboard) (75.8.2)\n",
      "Requirement already satisfied: six>1.9 in /opt/conda/lib/python3.12/site-packages (from tensorboard) (1.17.0)\n",
      "Requirement already satisfied: tensorboard-data-server<0.8.0,>=0.7.0 in /opt/conda/lib/python3.12/site-packages (from tensorboard) (0.7.0)\n",
      "Requirement already satisfied: werkzeug>=1.0.1 in /opt/conda/lib/python3.12/site-packages (from tensorboard) (3.1.3)\n",
      "Requirement already satisfied: MarkupSafe>=2.1.1 in /opt/conda/lib/python3.12/site-packages (from werkzeug>=1.0.1->tensorboard) (3.0.2)\n"
     ]
    }
   ],
   "source": [
    "!pip install tensorboard\n"
   ]
  },
  {
   "cell_type": "code",
   "execution_count": 30,
   "id": "124fdf48-9c7b-41c2-a745-858a5e9c7f13",
   "metadata": {},
   "outputs": [
    {
     "name": "stdout",
     "output_type": "stream",
     "text": [
      "The tensorboard extension is already loaded. To reload it, use:\n",
      "  %reload_ext tensorboard\n"
     ]
    },
    {
     "data": {
      "text/html": [
       "\n",
       "      <iframe id=\"tensorboard-frame-e34a6b472571fe95\" width=\"100%\" height=\"800\" frameborder=\"0\">\n",
       "      </iframe>\n",
       "      <script>\n",
       "        (function() {\n",
       "          const frame = document.getElementById(\"tensorboard-frame-e34a6b472571fe95\");\n",
       "          const url = new URL(\"/\", window.location);\n",
       "          const port = 6008;\n",
       "          if (port) {\n",
       "            url.port = port;\n",
       "          }\n",
       "          frame.src = url;\n",
       "        })();\n",
       "      </script>\n",
       "    "
      ],
      "text/plain": [
       "<IPython.core.display.HTML object>"
      ]
     },
     "metadata": {},
     "output_type": "display_data"
    }
   ],
   "source": [
    "%reload_ext tensorboard\n",
    "%load_ext tensorboard\n",
    "%tensorboard --logdir ../runs "
   ]
  },
  {
   "cell_type": "code",
   "execution_count": 26,
   "id": "700e35ed-781c-4825-a36a-fb31cddc541d",
   "metadata": {},
   "outputs": [],
   "source": [
    "!kill 12127  # Kill the current TB process\n"
   ]
  },
  {
   "cell_type": "code",
   "execution_count": 31,
   "id": "de8ca04d-c4e7-42c2-b018-86e124abff03",
   "metadata": {},
   "outputs": [
    {
     "name": "stdout",
     "output_type": "stream",
     "text": [
      "Trying to create a Glue session for the kernel.\n",
      "Session Type: etl\n",
      "Session ID: d6c9d7c3-8135-4172-a27d-c69363210ea0\n",
      "Applying the following default arguments:\n",
      "--glue_kernel_version 1.0.8\n",
      "--enable-glue-datacatalog true\n"
     ]
    },
    {
     "name": "stderr",
     "output_type": "stream",
     "text": [
      "Following exception encountered while creating session: An error occurred (AccessDeniedException) when calling the CreateSession operation: User: arn:aws:sts::513997065974:assumed-role/AmazonSageMaker-ExecutionRole-20240506T092696/SageMaker is not authorized to perform: glue:CreateSession on resource: arn:aws:glue:eu-west-1:513997065974:session/d6c9d7c3-8135-4172-a27d-c69363210ea0 because no identity-based policy allows the glue:CreateSession action \n",
      "\n",
      "Error message: User: arn:aws:sts::513997065974:assumed-role/AmazonSageMaker-ExecutionRole-20240506T092696/SageMaker is not authorized to perform: glue:CreateSession on resource: arn:aws:glue:eu-west-1:513997065974:session/d6c9d7c3-8135-4172-a27d-c69363210ea0 because no identity-based policy allows the glue:CreateSession action \n",
      "\n",
      "Traceback (most recent call last):\n",
      "  File \"/opt/conda/lib/python3.12/site-packages/aws_glue_interactive_sessions_kernel/glue_kernel_utils/KernelGateway.py\", line 104, in create_session\n",
      "    response = self.glue_client.create_session(\n",
      "               ^^^^^^^^^^^^^^^^^^^^^^^^^^^^^^^^\n",
      "  File \"/opt/conda/lib/python3.12/site-packages/botocore/client.py\", line 569, in _api_call\n",
      "    return self._make_api_call(operation_name, kwargs)\n",
      "           ^^^^^^^^^^^^^^^^^^^^^^^^^^^^^^^^^^^^^^^^^^^\n",
      "  File \"/opt/conda/lib/python3.12/site-packages/botocore/client.py\", line 1023, in _make_api_call\n",
      "    raise error_class(parsed_response, operation_name)\n",
      "botocore.errorfactory.AccessDeniedException: An error occurred (AccessDeniedException) when calling the CreateSession operation: User: arn:aws:sts::513997065974:assumed-role/AmazonSageMaker-ExecutionRole-20240506T092696/SageMaker is not authorized to perform: glue:CreateSession on resource: arn:aws:glue:eu-west-1:513997065974:session/d6c9d7c3-8135-4172-a27d-c69363210ea0 because no identity-based policy allows the glue:CreateSession action\n",
      "Exception encountered while creating session: An error occurred (AccessDeniedException) when calling the CreateSession operation: User: arn:aws:sts::513997065974:assumed-role/AmazonSageMaker-ExecutionRole-20240506T092696/SageMaker is not authorized to perform: glue:CreateSession on resource: arn:aws:glue:eu-west-1:513997065974:session/d6c9d7c3-8135-4172-a27d-c69363210ea0 because no identity-based policy allows the glue:CreateSession action \n",
      "Traceback (most recent call last):\n",
      "  File \"/opt/conda/lib/python3.12/site-packages/aws_glue_interactive_sessions_kernel/glue_kernel_base/BaseKernel.py\", line 173, in do_execute\n",
      "    self.create_session()\n",
      "  File \"/opt/conda/lib/python3.12/site-packages/aws_glue_interactive_sessions_kernel/glue_kernel_base/BaseKernel.py\", line 597, in create_session\n",
      "    response = self.kernel_gateway.create_session(\n",
      "               ^^^^^^^^^^^^^^^^^^^^^^^^^^^^^^^^^^^\n",
      "  File \"/opt/conda/lib/python3.12/site-packages/aws_glue_interactive_sessions_kernel/glue_kernel_utils/KernelGateway.py\", line 104, in create_session\n",
      "    response = self.glue_client.create_session(\n",
      "               ^^^^^^^^^^^^^^^^^^^^^^^^^^^^^^^^\n",
      "  File \"/opt/conda/lib/python3.12/site-packages/botocore/client.py\", line 569, in _api_call\n",
      "    return self._make_api_call(operation_name, kwargs)\n",
      "           ^^^^^^^^^^^^^^^^^^^^^^^^^^^^^^^^^^^^^^^^^^^\n",
      "  File \"/opt/conda/lib/python3.12/site-packages/botocore/client.py\", line 1023, in _make_api_call\n",
      "    raise error_class(parsed_response, operation_name)\n",
      "botocore.errorfactory.AccessDeniedException: An error occurred (AccessDeniedException) when calling the CreateSession operation: User: arn:aws:sts::513997065974:assumed-role/AmazonSageMaker-ExecutionRole-20240506T092696/SageMaker is not authorized to perform: glue:CreateSession on resource: arn:aws:glue:eu-west-1:513997065974:session/d6c9d7c3-8135-4172-a27d-c69363210ea0 because no identity-based policy allows the glue:CreateSession action\n"
     ]
    }
   ],
   "source": [
    "from tensorboard.backend.event_processing.event_accumulator import EventAccumulator\n",
    "\n",
    "# Load logs from a run directory\n",
    "event_acc = EventAccumulator('./runs/exp1')\n",
    "event_acc.Reload()  # Loads event data\n",
    "\n",
    "# Get all tags\n",
    "print(event_acc.Tags())\n",
    "\n",
    "# Read scalar events\n",
    "scalars = event_acc.Scalars('Loss/train')\n",
    "\n",
    "# Example: print step and value\n",
    "for s in scalars:\n",
    "    print(f\"Step: {s.step}, Value: {s.value}\")"
   ]
  },
  {
   "cell_type": "code",
   "execution_count": null,
   "id": "220a449b-abd9-4667-b101-7e9d7fa72e37",
   "metadata": {},
   "outputs": [],
   "source": []
  }
 ],
 "metadata": {
  "kernelspec": {
   "display_name": "Glue PySpark",
   "language": "python",
   "name": "glue_pyspark"
  },
  "language_info": {
   "codemirror_mode": {
    "name": "python",
    "version": 3
   },
   "file_extension": ".py",
   "mimetype": "text/x-python",
   "name": "Python_Glue_Session",
   "pygments_lexer": "python3"
  }
 },
 "nbformat": 4,
 "nbformat_minor": 5
}
