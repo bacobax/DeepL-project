{
 "cells": [
  {
   "cell_type": "code",
   "execution_count": 1,
   "id": "initial_id",
   "metadata": {
    "collapsed": true,
    "ExecuteTime": {
     "end_time": "2025-07-21T14:38:44.695294Z",
     "start_time": "2025-07-21T14:38:44.685410Z"
    }
   },
   "outputs": [],
   "source": [
    "import sys\n",
    "import os\n",
    "\n",
    "# This gets the parent directory of the current working directory (i.e., the project root)\n",
    "project_root = os.path.abspath(os.path.join(os.getcwd(), '..'))\n",
    "if project_root not in sys.path:\n",
    "    sys.path.insert(0, project_root)"
   ]
  },
  {
   "cell_type": "code",
   "execution_count": 2,
   "outputs": [],
   "source": [
    "from utils.datasets import CLASS_NAMES, get_data, base_novel_categories, split_data\n",
    "import clip\n",
    "import torch\n",
    "device = torch.device(\"cpu\")\n",
    "\n",
    "clip_model, preprocess = clip.load(\"RN50\", device=device)\n",
    "\n",
    "train_set, val_set, test_set = get_data(data_dir=\"../cifar10\", train_transform=preprocess, eval_transform=preprocess)\n",
    "\n",
    "# split classes into base and novel\n",
    "base_classes, novel_classes = base_novel_categories(train_set)\n",
    "\n",
    "# split the three datasets\n",
    "train_base, train_novel = split_data(train_set, base_classes)\n",
    "val_base, val_novel = split_data(val_set, base_classes)\n",
    "test_base, test_novel = split_data(test_set, base_classes)\n",
    "        \n"
   ],
   "metadata": {
    "collapsed": false,
    "ExecuteTime": {
     "end_time": "2025-07-21T14:38:53.844532Z",
     "start_time": "2025-07-21T14:38:44.690948Z"
    }
   },
   "id": "96614e341c3b91cc"
  },
  {
   "cell_type": "code",
   "execution_count": 3,
   "outputs": [
    {
     "name": "stdout",
     "output_type": "stream",
     "text": [
      "⚠️ Using float32 for meta_net due to MPS\n",
      "self.dtype=torch.float32\n",
      "⚠️ Using float32 for meta_net due to MPS\n"
     ]
    }
   ],
   "source": [
    "from model.cocoop.custom_clip import CustomCLIP\n",
    "pth_path = \"../bin/cocoop/after_first_train_from_yaml_base_kl_v2_80_20_kl_03_rot_period_3_4_ctx_balanced_20250720_134756.pth\"\n",
    "model = CustomCLIP.load_from_checkpoint(\n",
    "    classnames=[CLASS_NAMES[c] for c in base_classes],\n",
    "    checkpoint_path=pth_path,\n",
    "    device=\"cpu\",\n",
    "    n_ctx=4,\n",
    "    clip_model=clip_model,\n",
    "    ctx_init=\"\"\n",
    ")"
   ],
   "metadata": {
    "collapsed": false,
    "ExecuteTime": {
     "end_time": "2025-07-21T14:38:57.123151Z",
     "start_time": "2025-07-21T14:38:53.845458Z"
    }
   },
   "id": "e625787b465250d8"
  },
  {
   "cell_type": "code",
   "execution_count": 4,
   "outputs": [],
   "source": [
    "from training_systems.evaluation_methods import FineTunedTestStep\n",
    "\n",
    "\n",
    "def compute_evaluation(model):\n",
    "    \"\"\"\n",
    "    Run evaluation on the test split for both base and novel classes.\n",
    "\n",
    "    Args:\n",
    "        epoch_idx (int): Epoch index for logging.\n",
    "        base (bool): Whether to evaluate the frozen base CLIP model.\n",
    "\n",
    "    Returns:\n",
    "        Tuple[float, float]: Base and novel class test accuracy.\n",
    "\n",
    "    model = self.model if not base else self.clip_model\n",
    "    base_accuracy = test_step(model, self.test_base, self.base_classes, self.batch_size, self.device, label=\"test\", base=base)\n",
    "    novel_accuracy = test_step(model, self.test_novel, self.novel_classes, self.batch_size, self.device, label=\"test\", base=base)\n",
    "    \"\"\"\n",
    "    finetuned_test_method = FineTunedTestStep(\n",
    "            model=model,\n",
    "            batch_size=10,\n",
    "    )\n",
    "\n",
    "    base_metrics = finetuned_test_method.evaluate(\n",
    "        dataset=test_base,\n",
    "        classnames=base_classes,\n",
    "        desc_add=\" - Base Fine Tuned\",\n",
    "    )\n",
    "    novel_metrics = finetuned_test_method.evaluate(\n",
    "        dataset=test_novel,\n",
    "        classnames=novel_classes,\n",
    "        desc_add=\" - Novel Fine Tuned\",\n",
    "    )\n",
    "\n",
    "    base_accuracy = base_metrics[\"accuracy\"]\n",
    "    novel_accuracy = novel_metrics[\"accuracy\"]\n",
    "\n",
    "    return base_accuracy, novel_accuracy"
   ],
   "metadata": {
    "collapsed": false,
    "ExecuteTime": {
     "end_time": "2025-07-21T14:38:57.131178Z",
     "start_time": "2025-07-21T14:38:57.124368Z"
    }
   },
   "id": "a706ffd0d469eee4"
  },
  {
   "cell_type": "code",
   "execution_count": null,
   "outputs": [
    {
     "name": "stdout",
     "output_type": "stream",
     "text": [
      "⚠️ Using float32 for meta_net due to MPS\n"
     ]
    },
    {
     "name": "stderr",
     "output_type": "stream",
     "text": [
      "\n",
      "Test (Finetuned)  - Base Fine Tuned:   0%|          | 0/248 [00:00<?, ?it/s]\u001B[A\n",
      "Test (Finetuned)  - Base Fine Tuned:   0%|          | 0/248 [00:34<?, ?it/s, accuracy=0.6]\u001B[A\n",
      "Test (Finetuned)  - Base Fine Tuned:   0%|          | 1/248 [00:34<2:21:14, 34.31s/it, accuracy=0.6]\u001B[A\n",
      "Test (Finetuned)  - Base Fine Tuned:   0%|          | 1/248 [00:38<2:21:14, 34.31s/it, accuracy=0.5]\u001B[A\n",
      "Test (Finetuned)  - Base Fine Tuned:   1%|          | 2/248 [00:38<1:08:54, 16.81s/it, accuracy=0.5]\u001B[A\n",
      "Test (Finetuned)  - Base Fine Tuned:   1%|          | 2/248 [00:43<1:08:54, 16.81s/it, accuracy=0.433]\u001B[A\n",
      "Test (Finetuned)  - Base Fine Tuned:   1%|          | 3/248 [00:43<46:26, 11.37s/it, accuracy=0.433]  \u001B[A\n",
      "Test (Finetuned)  - Base Fine Tuned:   1%|          | 3/248 [00:48<46:26, 11.37s/it, accuracy=0.375]\u001B[A\n",
      "Test (Finetuned)  - Base Fine Tuned:   2%|▏         | 4/248 [00:48<35:26,  8.72s/it, accuracy=0.375]\u001B[A\n",
      "Test (Finetuned)  - Base Fine Tuned:   2%|▏         | 4/248 [00:53<35:26,  8.72s/it, accuracy=0.42] \u001B[A\n",
      "Test (Finetuned)  - Base Fine Tuned:   2%|▏         | 5/248 [00:53<29:19,  7.24s/it, accuracy=0.42]\u001B[A\n",
      "Test (Finetuned)  - Base Fine Tuned:   2%|▏         | 5/248 [00:57<29:19,  7.24s/it, accuracy=0.45]\u001B[A\n",
      "Test (Finetuned)  - Base Fine Tuned:   2%|▏         | 6/248 [00:57<25:55,  6.43s/it, accuracy=0.45]\u001B[A\n",
      "Test (Finetuned)  - Base Fine Tuned:   2%|▏         | 6/248 [01:02<25:55,  6.43s/it, accuracy=0.5] \u001B[A\n",
      "Test (Finetuned)  - Base Fine Tuned:   3%|▎         | 7/248 [01:02<23:42,  5.90s/it, accuracy=0.5]\u001B[A\n",
      "Test (Finetuned)  - Base Fine Tuned:   3%|▎         | 7/248 [01:08<23:42,  5.90s/it, accuracy=0.512]\u001B[A\n",
      "Test (Finetuned)  - Base Fine Tuned:   3%|▎         | 8/248 [01:08<23:31,  5.88s/it, accuracy=0.512]\u001B[A\n",
      "Test (Finetuned)  - Base Fine Tuned:   3%|▎         | 8/248 [01:13<23:31,  5.88s/it, accuracy=0.556]\u001B[A\n",
      "Test (Finetuned)  - Base Fine Tuned:   4%|▎         | 9/248 [01:13<22:00,  5.52s/it, accuracy=0.556]\u001B[A\n",
      "Test (Finetuned)  - Base Fine Tuned:   4%|▎         | 9/248 [01:17<22:00,  5.52s/it, accuracy=0.58] \u001B[A\n",
      "Test (Finetuned)  - Base Fine Tuned:   4%|▍         | 10/248 [01:17<20:48,  5.24s/it, accuracy=0.58]\u001B[A\n",
      "Test (Finetuned)  - Base Fine Tuned:   4%|▍         | 10/248 [01:22<20:48,  5.24s/it, accuracy=0.6] \u001B[A\n",
      "Test (Finetuned)  - Base Fine Tuned:   4%|▍         | 11/248 [01:22<19:54,  5.04s/it, accuracy=0.6]\u001B[A\n",
      "Test (Finetuned)  - Base Fine Tuned:   4%|▍         | 11/248 [01:27<19:54,  5.04s/it, accuracy=0.633]\u001B[A\n",
      "Test (Finetuned)  - Base Fine Tuned:   5%|▍         | 12/248 [01:27<19:16,  4.90s/it, accuracy=0.633]\u001B[A\n",
      "Test (Finetuned)  - Base Fine Tuned:   5%|▍         | 12/248 [01:31<19:16,  4.90s/it, accuracy=0.654]\u001B[A\n",
      "Test (Finetuned)  - Base Fine Tuned:   5%|▌         | 13/248 [01:31<18:52,  4.82s/it, accuracy=0.654]\u001B[A\n",
      "Test (Finetuned)  - Base Fine Tuned:   5%|▌         | 13/248 [01:37<18:52,  4.82s/it, accuracy=0.636]\u001B[A\n",
      "Test (Finetuned)  - Base Fine Tuned:   6%|▌         | 14/248 [01:37<19:34,  5.02s/it, accuracy=0.636]\u001B[A\n",
      "Test (Finetuned)  - Base Fine Tuned:   6%|▌         | 14/248 [01:43<19:34,  5.02s/it, accuracy=0.633]\u001B[A\n",
      "Test (Finetuned)  - Base Fine Tuned:   6%|▌         | 15/248 [01:43<21:31,  5.54s/it, accuracy=0.633]\u001B[A\n",
      "Test (Finetuned)  - Base Fine Tuned:   6%|▌         | 15/248 [01:49<21:31,  5.54s/it, accuracy=0.625]\u001B[A\n",
      "Test (Finetuned)  - Base Fine Tuned:   6%|▋         | 16/248 [01:49<21:30,  5.56s/it, accuracy=0.625]\u001B[A\n",
      "Test (Finetuned)  - Base Fine Tuned:   6%|▋         | 16/248 [01:54<21:30,  5.56s/it, accuracy=0.641]\u001B[A\n",
      "Test (Finetuned)  - Base Fine Tuned:   7%|▋         | 17/248 [01:54<20:49,  5.41s/it, accuracy=0.641]\u001B[A"
     ]
    }
   ],
   "source": [
    "base_acc, novel_acc = compute_evaluation(model)"
   ],
   "metadata": {
    "collapsed": false,
    "is_executing": true,
    "ExecuteTime": {
     "start_time": "2025-07-21T14:38:57.134250Z"
    }
   },
   "id": "395356aedae0d353"
  },
  {
   "cell_type": "code",
   "execution_count": null,
   "outputs": [],
   "source": [],
   "metadata": {
    "collapsed": false,
    "is_executing": true
   },
   "id": "4a5a139fb9c62e6a"
  }
 ],
 "metadata": {
  "kernelspec": {
   "display_name": "Python 3",
   "language": "python",
   "name": "python3"
  },
  "language_info": {
   "codemirror_mode": {
    "name": "ipython",
    "version": 2
   },
   "file_extension": ".py",
   "mimetype": "text/x-python",
   "name": "python",
   "nbconvert_exporter": "python",
   "pygments_lexer": "ipython2",
   "version": "2.7.6"
  }
 },
 "nbformat": 4,
 "nbformat_minor": 5
}
